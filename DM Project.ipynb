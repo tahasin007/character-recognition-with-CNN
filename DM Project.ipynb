{
 "cells": [
  {
   "cell_type": "markdown",
   "metadata": {},
   "source": [
    "# Bangla letters and numbers recognition using Convolutional Neural Network(CNN)"
   ]
  },
  {
   "cell_type": "code",
   "execution_count": 1,
   "metadata": {},
   "outputs": [],
   "source": [
    "#Importing packages and libraries\n",
    "from tensorflow.keras.models import Sequential\n",
    "from tensorflow.keras.layers import Conv2D, MaxPool2D, Flatten, Dense, Dropout\n",
    "from tensorflow.keras.losses import CategoricalCrossentropy\n",
    "\n",
    "\n",
    "#Sequential() is a keras api which is used to initialize the CNN\n",
    "#Arrange the layers of CNN in a sequential order\n",
    "cnn = Sequential()\n",
    "\n",
    "#Adding first convolutional layer\n",
    "cnn.add(Conv2D(filters=32, kernel_size=3, activation=\"relu\", input_shape=[64, 64, 3]))\n",
    "cnn.add(MaxPool2D(pool_size=2, strides=2, padding='valid'))\n",
    "\n",
    "\n",
    "#Adding second convolutional layer\n",
    "cnn.add(Conv2D(filters=32, kernel_size=3, activation=\"relu\"))\n",
    "cnn.add(MaxPool2D(pool_size=2, strides=2, padding='valid'))\n",
    "\n",
    "\n",
    "#Flattening the layers\n",
    "cnn.add(Flatten())\n",
    "\n",
    "#Input layers of CNN\n",
    "cnn.add(Dense(units=128, activation='relu'))\n",
    "\n",
    "\n",
    "#Output layers of CNN\n",
    "cnn.add(Dense(units=60, activation='softmax'))\n",
    "\n",
    "# Compiling the CNN\n",
    "cnn.compile(optimizer = 'adam', loss = CategoricalCrossentropy(), metrics = ['accuracy'])"
   ]
  },
  {
   "cell_type": "code",
   "execution_count": 3,
   "metadata": {},
   "outputs": [
    {
     "name": "stdout",
     "output_type": "stream",
     "text": [
      "Found 12000 images belonging to 60 classes.\n",
      "Found 3000 images belonging to 60 classes.\n"
     ]
    }
   ],
   "source": [
    "from tensorflow.keras.preprocessing.image import ImageDataGenerator\n",
    "\n",
    "\n",
    "# Generating images for the Training set\n",
    "train = ImageDataGenerator(rescale = 1./255, shear_range = 0.2, zoom_range = 0.2, horizontal_flip = True)\n",
    "\n",
    "# Generating images for the Test set\n",
    "test = ImageDataGenerator(rescale = 1./255)\n",
    "\n",
    "# Creating the Training set\n",
    "training_set = train.flow_from_directory('dataset/train', target_size = (64, 64),\\\n",
    "                                                 batch_size = 32, class_mode = 'categorical')\n",
    "\n",
    "# Creating the Test set\n",
    "test_set = test.flow_from_directory('dataset/test', target_size = (64, 64),\\\n",
    "                                            batch_size = 32, class_mode = 'categorical')"
   ]
  },
  {
   "cell_type": "code",
   "execution_count": 4,
   "metadata": {
    "scrolled": true
   },
   "outputs": [
    {
     "name": "stdout",
     "output_type": "stream",
     "text": [
      "WARNING:tensorflow:From <ipython-input-4-7bdfb144ed99>:2: Model.fit_generator (from tensorflow.python.keras.engine.training) is deprecated and will be removed in a future version.\n",
      "Instructions for updating:\n",
      "Please use Model.fit, which supports generators.\n",
      "Epoch 1/20\n",
      "375/375 [==============================] - 442s 1s/step - loss: 2.8721 - accuracy: 0.2718 - val_loss: 1.9909 - val_accuracy: 0.4634\n",
      "Epoch 2/20\n",
      "375/375 [==============================] - 92s 244ms/step - loss: 1.6968 - accuracy: 0.5370 - val_loss: 1.6274 - val_accuracy: 0.5588\n",
      "Epoch 3/20\n",
      "375/375 [==============================] - 97s 257ms/step - loss: 1.3384 - accuracy: 0.6305 - val_loss: 1.4828 - val_accuracy: 0.6018\n",
      "Epoch 4/20\n",
      "375/375 [==============================] - 96s 257ms/step - loss: 1.1344 - accuracy: 0.6813 - val_loss: 1.3779 - val_accuracy: 0.6210\n",
      "Epoch 5/20\n",
      "375/375 [==============================] - 107s 285ms/step - loss: 0.9748 - accuracy: 0.7203 - val_loss: 1.3175 - val_accuracy: 0.6331\n",
      "Epoch 6/20\n",
      "375/375 [==============================] - 98s 262ms/step - loss: 0.8656 - accuracy: 0.7515 - val_loss: 1.3592 - val_accuracy: 0.6442\n",
      "Epoch 7/20\n",
      "375/375 [==============================] - 117s 312ms/step - loss: 0.7609 - accuracy: 0.7763 - val_loss: 1.2709 - val_accuracy: 0.6720\n",
      "Epoch 8/20\n",
      "375/375 [==============================] - 112s 298ms/step - loss: 0.6948 - accuracy: 0.7968 - val_loss: 1.3312 - val_accuracy: 0.6576\n",
      "Epoch 9/20\n",
      "375/375 [==============================] - 112s 300ms/step - loss: 0.6267 - accuracy: 0.8152 - val_loss: 1.2492 - val_accuracy: 0.6855\n",
      "Epoch 10/20\n",
      "375/375 [==============================] - 119s 317ms/step - loss: 0.5622 - accuracy: 0.8337 - val_loss: 1.3110 - val_accuracy: 0.6865\n",
      "Epoch 11/20\n",
      "375/375 [==============================] - 112s 298ms/step - loss: 0.5161 - accuracy: 0.8487 - val_loss: 1.3072 - val_accuracy: 0.6959\n",
      "Epoch 12/20\n",
      "375/375 [==============================] - 105s 280ms/step - loss: 0.4787 - accuracy: 0.8580 - val_loss: 1.4297 - val_accuracy: 0.6559\n",
      "Epoch 13/20\n",
      "375/375 [==============================] - 110s 292ms/step - loss: 0.4437 - accuracy: 0.8663 - val_loss: 1.3352 - val_accuracy: 0.6845\n",
      "Epoch 14/20\n",
      "375/375 [==============================] - 102s 272ms/step - loss: 0.4091 - accuracy: 0.8770 - val_loss: 1.3416 - val_accuracy: 0.6922\n",
      "Epoch 15/20\n",
      "375/375 [==============================] - 105s 281ms/step - loss: 0.3786 - accuracy: 0.8851 - val_loss: 1.4338 - val_accuracy: 0.6909\n",
      "Epoch 16/20\n",
      "375/375 [==============================] - 103s 274ms/step - loss: 0.3627 - accuracy: 0.8891 - val_loss: 1.3869 - val_accuracy: 0.6882\n",
      "Epoch 17/20\n",
      "375/375 [==============================] - 106s 284ms/step - loss: 0.3361 - accuracy: 0.8982 - val_loss: 1.4745 - val_accuracy: 0.6838\n",
      "Epoch 18/20\n",
      "375/375 [==============================] - 102s 271ms/step - loss: 0.3281 - accuracy: 0.9009 - val_loss: 1.3979 - val_accuracy: 0.7003\n",
      "Epoch 19/20\n",
      "375/375 [==============================] - 101s 270ms/step - loss: 0.3017 - accuracy: 0.9041 - val_loss: 1.5577 - val_accuracy: 0.6774\n",
      "Epoch 20/20\n",
      "375/375 [==============================] - 112s 298ms/step - loss: 0.2901 - accuracy: 0.9117 - val_loss: 1.5179 - val_accuracy: 0.6868\n"
     ]
    },
    {
     "data": {
      "text/plain": [
       "<tensorflow.python.keras.callbacks.History at 0x22618292760>"
      ]
     },
     "execution_count": 4,
     "metadata": {},
     "output_type": "execute_result"
    }
   ],
   "source": [
    "# Training the CNN on the Training set and evaluating it on the Test set\n",
    "cnn.fit_generator(training_set, steps_per_epoch = 375, epochs = 20, validation_data = test_set, validation_steps = 93)"
   ]
  },
  {
   "cell_type": "code",
   "execution_count": 5,
   "metadata": {},
   "outputs": [
    {
     "data": {
      "image/png": "[encoded data removed]",
      "text/plain": [
       "<Figure size 432x288 with 1 Axes>"
      ]
     },
     "metadata": {
      "needs_background": "light"
     },
     "output_type": "display_data"
    }
   ],
   "source": [
    "from matplotlib import pyplot as plt\n",
    "\n",
    "plt.plot(cnn.history.history['loss'],'r',label='Training loss')\n",
    "plt.plot(cnn.history.history['val_loss'],label='Validation loss')\n",
    "plt.xlabel('Epochs')\n",
    "plt.ylabel('Loss')\n",
    "plt.legend()\n",
    "plt.show()"
   ]
  },
  {
   "cell_type": "code",
   "execution_count": 74,
   "metadata": {},
   "outputs": [
    {
     "data": {
      "image/png": "[encoded data removed]",
      "text/plain": [
       "<Figure size 432x288 with 1 Axes>"
      ]
     },
     "metadata": {
      "needs_background": "light"
     },
     "output_type": "display_data"
    }
   ],
   "source": [
    "plt.plot(cnn.history.history['accuracy'],'r',label='Training Accuracy')\n",
    "plt.plot(cnn.history.history['val_accuracy'],label='Validation Accuracy')\n",
    "plt.xlabel('Epochs')\n",
    "plt.ylabel('Loss')\n",
    "plt.legend()\n",
    "plt.show()"
   ]
  },
  {
   "cell_type": "code",
   "execution_count": 6,
   "metadata": {},
   "outputs": [],
   "source": [
    "def guess_character(character):\n",
    "    if character == 0:\n",
    "        print('০')\n",
    "    elif character == 1:\n",
    "        print('১')\n",
    "    elif character == 2:\n",
    "        print('২')\n",
    "    elif character == 3:\n",
    "        print('৩')\n",
    "    elif character == 4:\n",
    "        print('৪')\n",
    "    elif character == 5:\n",
    "        print('৫')\n",
    "    elif character == 6:\n",
    "        print('৬')\n",
    "    elif character == 7:\n",
    "        print('৭')\n",
    "    elif character == 8:\n",
    "        print('৮')\n",
    "    elif character == 9:\n",
    "        print('৯')\n",
    "    elif character == 10:\n",
    "        print('অ')\n",
    "    elif character == 11:\n",
    "        print('আ')\n",
    "    elif character == 12:\n",
    "        print('ই')\n",
    "    elif character == 13:\n",
    "        print('ঈ')\n",
    "    elif character == 14:\n",
    "        print('উ')\n",
    "    elif character == 15:\n",
    "        print('ঊ')\n",
    "    elif character == 16:\n",
    "        print('ঋ')\n",
    "    elif character == 17:\n",
    "        print('এ')\n",
    "    elif character == 18:\n",
    "        print('ঐ')\n",
    "    elif character == 19:\n",
    "        print('ও')\n",
    "    elif character == 20:\n",
    "        print('ঔ')\n",
    "    elif character == 21:\n",
    "        print('ক')\n",
    "    elif character == 22:\n",
    "        print('খ')\n",
    "    elif character == 23:\n",
    "        print('গ')\n",
    "    elif character == 24:\n",
    "        print('ঘ')\n",
    "    elif character == 25:\n",
    "        print('ঙ')\n",
    "    elif character == 26:\n",
    "        print('চ')\n",
    "    elif character == 27:\n",
    "        print('ছ')\n",
    "    elif character == 28:\n",
    "        print('জ')\n",
    "    elif character == 29:\n",
    "        print('ঝ')\n",
    "    elif character == 30:\n",
    "        print('ঞ')\n",
    "    elif character == 31:\n",
    "        print('ট')\n",
    "    elif character == 32:\n",
    "        print('ঠ')\n",
    "    elif character == 33:\n",
    "        print('ড')\n",
    "    elif character == 34:\n",
    "        print('ঢ')\n",
    "    elif character == 35:\n",
    "        print('ণ')\n",
    "    elif character == 36:\n",
    "        print('ত')\n",
    "    elif character == 37:\n",
    "        print('থ')\n",
    "    elif character == 38:\n",
    "        print('দ')\n",
    "    elif character == 39:\n",
    "        print('ধ')\n",
    "    elif character == 40:\n",
    "        print('ন')\n",
    "    elif character == 41:\n",
    "        print('প')\n",
    "    elif character == 42:\n",
    "        print('ফ')\n",
    "    elif character == 43:\n",
    "        print('ব')\n",
    "    elif character == 44:\n",
    "        print('ভ')\n",
    "    elif character == 45:\n",
    "        print('ম')\n",
    "    elif character == 46:\n",
    "        print('য')\n",
    "    elif character == 47:\n",
    "        print('র')\n",
    "    elif character == 48:\n",
    "        print('ল')\n",
    "    elif character == 49:\n",
    "        print('শ')\n",
    "    elif character == 50:\n",
    "        print('ষ')\n",
    "    elif character == 51:\n",
    "        print('স')\n",
    "    elif character == 52:\n",
    "        print('হ')\n",
    "    elif character == 53:\n",
    "        print('ড়')\n",
    "    elif character == 54:\n",
    "        print('ঢ়')\n",
    "    elif character == 55:\n",
    "        print('য়')\n",
    "    elif character == 56:\n",
    "        print('ৎ')\n",
    "    elif character == 57:\n",
    "        print('ং')\n",
    "    elif character == 58:\n",
    "        print('ঃ')\n",
    "    elif character == 59:\n",
    "        print(' ঁ')"
   ]
  },
  {
   "cell_type": "code",
   "execution_count": 16,
   "metadata": {},
   "outputs": [],
   "source": [
    "import PIL\n",
    "from PIL import ImageDraw\n",
    "from tkinter import *\n",
    "from tensorflow.keras.preprocessing import image\n",
    "\n",
    "\n",
    "def create_image():\n",
    "    width = 400\n",
    "    height = 400\n",
    "    white = (255, 255, 255)\n",
    "    \n",
    "    def save():\n",
    "        filename = 'C:/Users/Dell/Desktop/image.jpg'\n",
    "        image.save(filename)\n",
    "        \n",
    "    def paint(event):\n",
    "        x1, y1 = (event.x - 1), (event.y - 1)\n",
    "        x2, y2 = (event.x + 1), (event.y + 1)\n",
    "        cv.create_oval(x1, y1, x2, y2, fill = 'black', width = 30)\n",
    "        draw.line([x1, y1, x2, y2], fill = 'black', width = 25)\n",
    "        \n",
    "    root = Tk()\n",
    "    root.title( \"Bangla Handwritten Character Recognition\" )\n",
    "    cv = Canvas(root, width = width, height = height, bg = 'white')\n",
    "    cv.pack()\n",
    "    \n",
    "    image = PIL.Image.new('RGB', (width, height), white)\n",
    "    draw = ImageDraw.Draw(image)\n",
    "    \n",
    "    cv.pack(expand = YES, fill = BOTH)\n",
    "    cv.bind(\"<B1-Motion>\", paint)\n",
    "    \n",
    "    message = Label( root, text = \"Press and Drag the mouse to draw\" )\n",
    "    message.pack( side = BOTTOM )\n",
    "    \n",
    "    button = Button(text = 'Save', command = save)\n",
    "    button.pack()\n",
    "    \n",
    "    root.mainloop()"
   ]
  },
  {
   "cell_type": "code",
   "execution_count": 17,
   "metadata": {},
   "outputs": [],
   "source": [
    "import numpy as np\n",
    "\n",
    "def single_prediction(test_img):\n",
    "    test_img_arr = image.img_to_array(test_img)\n",
    "    test_img_arr = np.expand_dims(test_img_arr, axis = 0)\n",
    "    prediction = cnn.predict(test_img_arr)\n",
    "    result = np.argmax(prediction, axis = 1)\n",
    "    guess_character(result)"
   ]
  },
  {
   "cell_type": "code",
   "execution_count": 18,
   "metadata": {},
   "outputs": [],
   "source": [
    "import matplotlib.pyplot as plt\n",
    "\n",
    "def predict_character():\n",
    "    create_image()\n",
    "    test_img = image.load_img('C:/Users/Dell/Desktop/image.jpg', target_size = (64, 64, 3))\n",
    "    single_prediction(test_img)\n",
    "    plt.imshow(test_img)"
   ]
  },
  {
   "cell_type": "code",
   "execution_count": 50,
   "metadata": {
    "scrolled": true
   },
   "outputs": [
    {
     "name": "stdout",
     "output_type": "stream",
     "text": [
      "ঈ\n"
     ]
    },
    {
     "data": {
      "image/png": "[encoded data removed]",
      "text/plain": [
       "<Figure size 432x288 with 1 Axes>"
      ]
     },
     "metadata": {
      "needs_background": "light"
     },
     "output_type": "display_data"
    }
   ],
   "source": [
    "predict_character()"
   ]
  }
 ],
 "metadata": {
  "kernelspec": {
   "display_name": "Python 3",
   "language": "python",
   "name": "python3"
  },
  "language_info": {
   "codemirror_mode": {
    "name": "ipython",
    "version": 3
   },
   "file_extension": ".py",
   "mimetype": "text/x-python",
   "name": "python",
   "nbconvert_exporter": "python",
   "pygments_lexer": "ipython3",
   "version": "3.8.5"
  }
 },
 "nbformat": 4,
 "nbformat_minor": 4
}
